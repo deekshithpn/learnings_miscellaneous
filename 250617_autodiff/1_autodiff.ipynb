{
 "cells": [
  {
   "cell_type": "markdown",
   "id": "0",
   "metadata": {},
   "source": [
    "# Understanding Autodiff"
   ]
  },
  {
   "cell_type": "markdown",
   "id": "1",
   "metadata": {},
   "source": [
    "A very simple case"
   ]
  },
  {
   "cell_type": "code",
   "execution_count": null,
   "id": "2",
   "metadata": {},
   "outputs": [],
   "source": [
    "\"\"\" This code is to understand autodifferentiation implementation\n",
    "using pytorch library\"\"\"\n",
    "\n",
    "import torch\n",
    "\n",
    "x = torch.tensor(2.0, requires_grad = True)  # Create a tensor with requires_grad=True\n",
    "y = torch.tensor(3.0, requires_grad = True)  # Another tensor with requires_grad=True\n",
    "\n",
    "# Define a function w in terms of x and y\n",
    "w =  x * y + y**2\n",
    "\n",
    "# Compute the gradients\n",
    "w.backward() \n",
    "\n",
    "# Print the gradients\n",
    "print(f\"Gradient of w with respect to x: {x.grad}\")\n",
    "print(f\"Gradient of w with respect to y: {y.grad}\")"
   ]
  },
  {
   "cell_type": "markdown",
   "id": "3",
   "metadata": {},
   "source": [
    "Consider the following example."
   ]
  },
  {
   "cell_type": "code",
   "execution_count": null,
   "id": "4",
   "metadata": {},
   "outputs": [],
   "source": [
    "x = torch.tensor(2.0, requires_grad = True)  # Create a tensor with requires_grad=True\n",
    "y = torch.tensor(3.0, requires_grad = True)  # Another tensor with requires_grad=True\n",
    "z = x*y\n",
    "w = z + y**2 + x*z\n",
    "\n",
    "# Compute gradients\n",
    "w.backward()\n",
    "# Print the gradients\n",
    "print(f\"Gradient of w with respect to x: {x.grad}\")\n",
    "print(f\"Gradient of w with respect to y: {y.grad}\") \n",
    "print(f\"Gradient of w with respect to z: {z.grad}\")  # z.grad will be None since z is not a leaf tensor"
   ]
  },
  {
   "cell_type": "markdown",
   "id": "5",
   "metadata": {},
   "source": [
    "In the above code the gradients are computed for z as well as it is a part of the computation. But then To save space the gradients for z are cleared off. hence we see None warning."
   ]
  },
  {
   "cell_type": "code",
   "execution_count": null,
   "id": "6",
   "metadata": {},
   "outputs": [],
   "source": [
    "a = torch.tensor(3.0, requires_grad=True)  # Create a tensor with requires_grad=True\n",
    "z = a**2\n",
    "z.backward()"
   ]
  },
  {
   "cell_type": "code",
   "execution_count": null,
   "id": "7",
   "metadata": {},
   "outputs": [],
   "source": []
  }
 ],
 "metadata": {
  "kernelspec": {
   "display_name": "ky",
   "language": "python",
   "name": "python3"
  },
  "language_info": {
   "codemirror_mode": {
    "name": "ipython",
    "version": 3
   },
   "file_extension": ".py",
   "mimetype": "text/x-python",
   "name": "python",
   "nbconvert_exporter": "python",
   "pygments_lexer": "ipython3",
   "version": "3.10.18"
  }
 },
 "nbformat": 4,
 "nbformat_minor": 5
}
