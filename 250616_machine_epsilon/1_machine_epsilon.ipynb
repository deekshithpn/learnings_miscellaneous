{
 "cells": [
  {
   "cell_type": "markdown",
   "id": "0",
   "metadata": {},
   "source": [
    "# Demo for Machine epsilon\n",
    "The follwing code demonstrates machine epsilon."
   ]
  },
  {
   "cell_type": "code",
   "execution_count": null,
   "id": "1",
   "metadata": {},
   "outputs": [],
   "source": [
    "import numpy as np\n",
    "import matplotlib.pyplot as plt\n",
    "\n",
    "def evaluate_h(x,h):\n",
    "    ''' The objective here is to see how x affects h.\n",
    "    1. We add x to h. In computer x+h is approximated using floating point arithmetic.\n",
    "    2. Then we subtract x'''\n",
    "    return ((x+h) - x)\n",
    "\n",
    "exponents = np.arange(-10,-17,-0.01)\n",
    "h_actual = 10.0**exponents\n",
    "x=1\n",
    "h_evaluated = evaluate_h(x,h_actual)\n",
    "plt.loglog(h_actual, h_evaluated, label= f\"x ={x}\")\n",
    "plt.ylim(1e-17,1e-10)\n",
    "plt.legend(loc=\"best\")\n",
    "plt.xlabel(\"h\")\n",
    "plt.ylabel(\"(x+h)-x\")\n",
    "plt.title(\"Demonstration of Machine epsilon\")\n",
    "plt.grid(linestyle=\"--\")"
   ]
  },
  {
   "cell_type": "code",
   "execution_count": null,
   "id": "2",
   "metadata": {},
   "outputs": [],
   "source": [
    "h_evaluated"
   ]
  },
  {
   "cell_type": "markdown",
   "id": "3",
   "metadata": {},
   "source": [
    "From the above plot we see that the machine epsilon is $10^{-15}$.\n",
    "It means that for any $h<10^{-15}$, 1+h becomes 1. the same can also be seen in the plot. Let us try determining the machine epsilon more accurately. For this we will zoom into the $10^{-15}$ region."
   ]
  },
  {
   "cell_type": "code",
   "execution_count": null,
   "id": "4",
   "metadata": {},
   "outputs": [],
   "source": [
    "h_actual = 10.0**-16*np.linspace(0.5,1.5,10000)\n",
    "x=1\n",
    "h_evaluated = evaluate_h(x,h_actual)\n",
    "plt.plot(h_actual, h_evaluated, label= f\"x ={x}\")\n",
    "plt.legend(loc=\"best\")\n",
    "plt.xlabel(\"h\")\n",
    "plt.ylabel(\"(x+h)-x\")\n",
    "plt.title(\"Demonstration of Machine epsilon\")\n",
    "plt.grid(linestyle=\"--\")"
   ]
  },
  {
   "cell_type": "code",
   "execution_count": null,
   "id": "5",
   "metadata": {},
   "outputs": [],
   "source": [
    "(np.nextafter(2**300,2**301)-2**300)/2**300"
   ]
  },
  {
   "cell_type": "code",
   "execution_count": null,
   "id": "6",
   "metadata": {},
   "outputs": [],
   "source": [
    "exponents = np.arange(1,-20,-1)\n",
    "h_actual = 10.0**(-15)*np.linspace(0.01,10,1000)\n",
    "x=1\n",
    "h_evaluated = evaluate_h(x,h_actual)\n",
    "error = np.abs(h_evaluated - h_actual)\n",
    "plt.loglog(h_actual, error, c=\"b\", label= f\"abs error for x ={x}\")\n",
    "plt.loglog(h_actual, h_actual, \"r--\",label= f\"h_actual\")\n",
    "\n",
    "plt.legend(loc=\"best\")\n",
    "plt.xlabel(\"h\")\n",
    "plt.ylabel(\"abs error = |[(x+h)-x]-h|\")\n",
    "plt.title(\"Demonstration of Machine epsilon\")\n",
    "plt.grid(linestyle=\"--\")"
   ]
  },
  {
   "cell_type": "code",
   "execution_count": null,
   "id": "7",
   "metadata": {},
   "outputs": [],
   "source": [
    "exponents = np.arange(1,-20,-1)\n",
    "h_actual = 10.0**(-15)*np.linspace(0.05,10,10000)\n",
    "x=1\n",
    "h_evaluated = evaluate_h(x,h_actual)\n",
    "rel_error = (np.abs(h_evaluated - h_actual))/h_actual\n",
    "plt.loglog(h_actual, rel_error, label= f\"x ={x}\")\n",
    "\n",
    "plt.legend(loc=\"best\")\n",
    "plt.xlabel(\"h\")\n",
    "plt.ylabel(\"(x+h)-x\")\n",
    "plt.title(\"Demonstration of Machine epsilon\")\n",
    "plt.grid(linestyle=\"--\")"
   ]
  },
  {
   "cell_type": "code",
   "execution_count": null,
   "id": "8",
   "metadata": {},
   "outputs": [],
   "source": []
  },
  {
   "cell_type": "code",
   "execution_count": null,
   "id": "9",
   "metadata": {},
   "outputs": [],
   "source": [
    "exponents = np.arange(-5,-25,-1)\n",
    "h_actual = 10.0**exponents\n",
    "for x in [1e-6,1e-3,1e0,1e3,1e6]:\n",
    "    h_evaluated = evaluate_h(x,h_actual)\n",
    "    plt.loglog(h_actual, h_evaluated, label= f\"x ={x}\")\n",
    "\n",
    "plt.legend(loc=\"best\")\n",
    "plt.xlabel(\"h\")\n",
    "plt.ylabel(\"(x+h)-x\")\n",
    "plt.title(\"Demonstration of Machine epsilon\")\n",
    "plt.grid(linestyle=\"--\")"
   ]
  }
 ],
 "metadata": {
  "kernelspec": {
   "display_name": "ky",
   "language": "python",
   "name": "python3"
  },
  "language_info": {
   "codemirror_mode": {
    "name": "ipython",
    "version": 3
   },
   "file_extension": ".py",
   "mimetype": "text/x-python",
   "name": "python",
   "nbconvert_exporter": "python",
   "pygments_lexer": "ipython3",
   "version": "3.10.18"
  }
 },
 "nbformat": 4,
 "nbformat_minor": 5
}
